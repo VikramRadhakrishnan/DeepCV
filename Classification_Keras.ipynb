{
 "cells": [
  {
   "cell_type": "markdown",
   "metadata": {},
   "source": [
    "# Hands-on workshop: Image classification with Keras "
   ]
  },
  {
   "cell_type": "markdown",
   "metadata": {},
   "source": [
    "In this notebook you will learn how to build a convolutional neural network from scratch with Keras. You will build a simple network to classify one of the most well-known datasets in the world of image classification - the [MNIST database of handwritten digits](http://yann.lecun.com/exdb/mnist/). You can generalize the steps we follow in this tutorial to virtually any image dataset. Of course, with more complex images with more subtle differences between them, you will need to train much deeper and wider networks, for much longer periods of time. Luckily with transfer learning, you can use a pre-trained network trained on a *different* dataset, andfine-tune it to your particular dataset. We will see an ecample of this in the second part of the notebook."
   ]
  },
  {
   "cell_type": "markdown",
   "metadata": {},
   "source": [
    "## Part 1: Getting the data"
   ]
  },
  {
   "cell_type": "markdown",
   "metadata": {},
   "source": [
    "We will be working with the deep learning library Keras. Keras comes with a bunch of datasets that you can play around with, including MNIST. Let's start by installing and importing the libraries we need for this project."
   ]
  },
  {
   "cell_type": "code",
   "execution_count": 1,
   "metadata": {},
   "outputs": [
    {
     "name": "stdout",
     "output_type": "stream",
     "text": [
      "Requirement already up-to-date: pip in /home/vikram/miniconda3/envs/workshops/lib/python3.6/site-packages (18.1)\n",
      "Requirement already satisfied: tensorflow-gpu in /home/vikram/miniconda3/envs/workshops/lib/python3.6/site-packages (1.11.0)\n",
      "Requirement already satisfied: protobuf>=3.6.0 in /home/vikram/miniconda3/envs/workshops/lib/python3.6/site-packages (from tensorflow-gpu) (3.6.1)\n",
      "Requirement already satisfied: grpcio>=1.8.6 in /home/vikram/miniconda3/envs/workshops/lib/python3.6/site-packages (from tensorflow-gpu) (1.16.0)\n",
      "Requirement already satisfied: absl-py>=0.1.6 in /home/vikram/miniconda3/envs/workshops/lib/python3.6/site-packages (from tensorflow-gpu) (0.6.1)\n",
      "Requirement already satisfied: setuptools<=39.1.0 in /home/vikram/miniconda3/envs/workshops/lib/python3.6/site-packages (from tensorflow-gpu) (39.1.0)\n",
      "Requirement already satisfied: keras-applications>=1.0.5 in /home/vikram/miniconda3/envs/workshops/lib/python3.6/site-packages (from tensorflow-gpu) (1.0.6)\n",
      "Requirement already satisfied: keras-preprocessing>=1.0.3 in /home/vikram/miniconda3/envs/workshops/lib/python3.6/site-packages (from tensorflow-gpu) (1.0.5)\n",
      "Requirement already satisfied: gast>=0.2.0 in /home/vikram/miniconda3/envs/workshops/lib/python3.6/site-packages (from tensorflow-gpu) (0.2.0)\n",
      "Requirement already satisfied: numpy>=1.13.3 in /home/vikram/miniconda3/envs/workshops/lib/python3.6/site-packages (from tensorflow-gpu) (1.15.3)\n",
      "Requirement already satisfied: termcolor>=1.1.0 in /home/vikram/miniconda3/envs/workshops/lib/python3.6/site-packages (from tensorflow-gpu) (1.1.0)\n",
      "Requirement already satisfied: six>=1.10.0 in /home/vikram/miniconda3/envs/workshops/lib/python3.6/site-packages (from tensorflow-gpu) (1.11.0)\n",
      "Requirement already satisfied: wheel>=0.26 in /home/vikram/miniconda3/envs/workshops/lib/python3.6/site-packages (from tensorflow-gpu) (0.32.2)\n",
      "Requirement already satisfied: astor>=0.6.0 in /home/vikram/miniconda3/envs/workshops/lib/python3.6/site-packages (from tensorflow-gpu) (0.7.1)\n",
      "Requirement already satisfied: tensorboard<1.12.0,>=1.11.0 in /home/vikram/miniconda3/envs/workshops/lib/python3.6/site-packages (from tensorflow-gpu) (1.11.0)\n",
      "Requirement already satisfied: h5py in /home/vikram/miniconda3/envs/workshops/lib/python3.6/site-packages (from keras-applications>=1.0.5->tensorflow-gpu) (2.8.0)\n",
      "Requirement already satisfied: werkzeug>=0.11.10 in /home/vikram/miniconda3/envs/workshops/lib/python3.6/site-packages (from tensorboard<1.12.0,>=1.11.0->tensorflow-gpu) (0.14.1)\n",
      "Requirement already satisfied: markdown>=2.6.8 in /home/vikram/miniconda3/envs/workshops/lib/python3.6/site-packages (from tensorboard<1.12.0,>=1.11.0->tensorflow-gpu) (3.0.1)\n",
      "Requirement already satisfied: keras in /home/vikram/miniconda3/envs/workshops/lib/python3.6/site-packages (2.2.4)\n",
      "Requirement already satisfied: h5py in /home/vikram/miniconda3/envs/workshops/lib/python3.6/site-packages (from keras) (2.8.0)\n",
      "Requirement already satisfied: scipy>=0.14 in /home/vikram/miniconda3/envs/workshops/lib/python3.6/site-packages (from keras) (1.1.0)\n",
      "Requirement already satisfied: keras-preprocessing>=1.0.5 in /home/vikram/miniconda3/envs/workshops/lib/python3.6/site-packages (from keras) (1.0.5)\n",
      "Requirement already satisfied: pyyaml in /home/vikram/miniconda3/envs/workshops/lib/python3.6/site-packages (from keras) (3.13)\n",
      "Requirement already satisfied: keras-applications>=1.0.6 in /home/vikram/miniconda3/envs/workshops/lib/python3.6/site-packages (from keras) (1.0.6)\n",
      "Requirement already satisfied: six>=1.9.0 in /home/vikram/miniconda3/envs/workshops/lib/python3.6/site-packages (from keras) (1.11.0)\n",
      "Requirement already satisfied: numpy>=1.9.1 in /home/vikram/miniconda3/envs/workshops/lib/python3.6/site-packages (from keras) (1.15.3)\n",
      "Requirement already satisfied: numpy in /home/vikram/miniconda3/envs/workshops/lib/python3.6/site-packages (1.15.3)\n",
      "Requirement already satisfied: matplotlib in /home/vikram/miniconda3/envs/workshops/lib/python3.6/site-packages (3.0.1)\n",
      "Requirement already satisfied: numpy>=1.10.0 in /home/vikram/miniconda3/envs/workshops/lib/python3.6/site-packages (from matplotlib) (1.15.3)\n",
      "Requirement already satisfied: pyparsing!=2.0.4,!=2.1.2,!=2.1.6,>=2.0.1 in /home/vikram/miniconda3/envs/workshops/lib/python3.6/site-packages (from matplotlib) (2.2.2)\n",
      "Requirement already satisfied: python-dateutil>=2.1 in /home/vikram/miniconda3/envs/workshops/lib/python3.6/site-packages (from matplotlib) (2.7.3)\n",
      "Requirement already satisfied: kiwisolver>=1.0.1 in /home/vikram/miniconda3/envs/workshops/lib/python3.6/site-packages (from matplotlib) (1.0.1)\n",
      "Requirement already satisfied: cycler>=0.10 in /home/vikram/miniconda3/envs/workshops/lib/python3.6/site-packages (from matplotlib) (0.10.0)\n",
      "Requirement already satisfied: six>=1.5 in /home/vikram/miniconda3/envs/workshops/lib/python3.6/site-packages (from python-dateutil>=2.1->matplotlib) (1.11.0)\n",
      "Requirement already satisfied: setuptools in /home/vikram/miniconda3/envs/workshops/lib/python3.6/site-packages (from kiwisolver>=1.0.1->matplotlib) (39.1.0)\n",
      "Requirement already satisfied: scikit-learn in /home/vikram/miniconda3/envs/workshops/lib/python3.6/site-packages (0.20.0)\n",
      "Requirement already satisfied: scipy>=0.13.3 in /home/vikram/miniconda3/envs/workshops/lib/python3.6/site-packages (from scikit-learn) (1.1.0)\n",
      "Requirement already satisfied: numpy>=1.8.2 in /home/vikram/miniconda3/envs/workshops/lib/python3.6/site-packages (from scikit-learn) (1.15.3)\n",
      "Requirement already satisfied: scipy in /home/vikram/miniconda3/envs/workshops/lib/python3.6/site-packages (1.1.0)\n",
      "Requirement already satisfied: numpy>=1.8.2 in /home/vikram/miniconda3/envs/workshops/lib/python3.6/site-packages (from scipy) (1.15.3)\n"
     ]
    }
   ],
   "source": [
    "!pip3 install --upgrade pip\n",
    "!pip3 install tensorflow-gpu\n",
    "!pip3 install keras\n",
    "!pip3 install numpy\n",
    "!pip3 install matplotlib\n",
    "!pip3 install scikit-learn\n",
    "!pip3 install scipy"
   ]
  },
  {
   "cell_type": "code",
   "execution_count": 2,
   "metadata": {},
   "outputs": [
    {
     "name": "stderr",
     "output_type": "stream",
     "text": [
      "/home/vikram/miniconda3/envs/hcipy/lib/python3.6/site-packages/h5py/__init__.py:36: FutureWarning: Conversion of the second argument of issubdtype from `float` to `np.floating` is deprecated. In future, it will be treated as `np.float64 == np.dtype(float).type`.\n",
      "  from ._conv import register_converters as _register_converters\n",
      "Using TensorFlow backend.\n"
     ]
    }
   ],
   "source": [
    "import numpy as np\n",
    "np.random.seed(123) # For reproducibility\n",
    "\n",
    "from matplotlib import pyplot as plt\n",
    "\n",
    "from keras.models import Sequential\n",
    "\n",
    "from keras.layers import Dense, Dropout, Activation, Flatten\n",
    "from keras.layers import Conv2D, MaxPooling2D\n",
    "\n",
    "from keras import optimizers\n",
    "\n",
    "from keras.utils import np_utils\n",
    "\n",
    "from keras.datasets import mnist"
   ]
  },
  {
   "cell_type": "markdown",
   "metadata": {},
   "source": [
    "It is worth spending a bit of time here to look at the [documentation](https://keras.io/datasets/#mnist-database-of-handwritten-digits) of the Keras MNIST dataset. The load_data function gives you pre-shuffled MNIST data in train and test sets."
   ]
  },
  {
   "cell_type": "code",
   "execution_count": 3,
   "metadata": {},
   "outputs": [
    {
     "name": "stdout",
     "output_type": "stream",
     "text": [
      "X_train (data) shape (60000, 28, 28)\n",
      "y_train (labels) shape (60000,)\n",
      "X_test (data) shape (10000, 28, 28)\n",
      "y_test (labels) shape (10000,)\n"
     ]
    }
   ],
   "source": [
    "# Load pre-shuffled MNIST data into train and test sets\n",
    "(X_train, y_train), (X_test, y_test) = mnist.load_data()\n",
    "\n",
    "# Take a look at the shape of the data arrays\n",
    "print(\"X_train (data) shape\", X_train.shape)\n",
    "print(\"y_train (labels) shape\", y_train.shape)\n",
    "print(\"X_test (data) shape\", X_test.shape)\n",
    "print(\"y_test (labels) shape\", y_test.shape)"
   ]
  },
  {
   "cell_type": "markdown",
   "metadata": {},
   "source": [
    "Let's take a look at some of the images in our dataset. We're going to use the matplotlib library and the function pyplot to plot our images."
   ]
  },
  {
   "cell_type": "code",
   "execution_count": 4,
   "metadata": {},
   "outputs": [
    {
     "data": {
      "image/png": "[encoded data removed]",
      "text/plain": [
       "<Figure size 432x288 with 9 Axes>"
      ]
     },
     "metadata": {},
     "output_type": "display_data"
    }
   ],
   "source": [
    "for i in range(9):\n",
    "    plt.subplot(3,3,i+1)\n",
    "    index = np.random.randint(0, X_train.shape[0])\n",
    "    plt.imshow(X_train[index], cmap='gray', interpolation='none')\n",
    "    plt.title(\"Label {}\".format(y_train[index]))"
   ]
  },
  {
   "cell_type": "markdown",
   "metadata": {},
   "source": [
    "## Part 2: Formatting the data so that we can feed it to the network"
   ]
  },
  {
   "cell_type": "markdown",
   "metadata": {},
   "source": [
    "* When you are using Keras with TensorFlow as a backend, the input to a convolutional neural network is of the format (n_images, n_rows, n_cols, n_channels), where n_images is the numbner of images in your training set or batch, n_rows and n_cols are the number of rows and columns of pixels, and n_channels is the number of color channels (1 for black and white, 3 for colored images). As we have already seen that the format of the data is currently (n_images, n_rows, n_cols), we need to add an extra dimension for n_channels.  \n",
    "* It is always useful to normalize your input data, so that rather than ranging from 0 to 255, the pixel values in your image range from 0 to 1 instead. This makes it easier to train your network.\n",
    "* Finally, since our labels are categorical, and we need them to be numeric for our network to be able to calculate a loss, we one-hot-encode our labels. That is, convert each label into a vector as follows:  \n",
    "0 -> [1, 0, 0, 0, 0, 0, 0, 0, 0]  \n",
    "1 -> [0, 1, 0, 0, 0, 0, 0, 0, 0]  \n",
    "2 -> [0, 0, 1, 0, 0, 0, 0, 0, 0]  \n",
    "etc."
   ]
  },
  {
   "cell_type": "code",
   "execution_count": 5,
   "metadata": {},
   "outputs": [],
   "source": [
    "# Reshape input data\n",
    "X_train = X_train.reshape(X_train.shape[0], 28, 28, 1)\n",
    "X_test = X_test.reshape(X_test.shape[0], 28, 28, 1)\n",
    "\n",
    "# Convert input data type to float\n",
    "X_train = X_train.astype('float32')\n",
    "X_test = X_test.astype('float32')\n",
    "\n",
    "# Normalize input data\n",
    "X_train /= 255\n",
    "X_test /= 255\n",
    "\n",
    "# Convert 1-dimensional class arrays to 10-dimensional class matrices\n",
    "Y_train = np_utils.to_categorical(y_train, 10)\n",
    "Y_test = np_utils.to_categorical(y_test, 10)"
   ]
  },
  {
   "cell_type": "markdown",
   "metadata": {},
   "source": [
    "## Part 3: Building our neural network with Keras"
   ]
  },
  {
   "cell_type": "markdown",
   "metadata": {},
   "source": [
    "There are two ways of building a neural network with Keras. The [Sequential](https://keras.io/getting-started/sequential-model-guide/) method and the [Functional](https://keras.io/getting-started/functional-api-guide/) method. The Functional method is useful for building very complex networks with fancy connections, but we will look at the simpler Sequential method for now.  "
   ]
  },
  {
   "cell_type": "code",
   "execution_count": 6,
   "metadata": {},
   "outputs": [],
   "source": [
    "# Some parameters for the network\n",
    "batch_size = 128 # Change this to experiment - best to keep it a power of 2\n",
    "epochs = 12      # Change this to experiment - train as many epochs as you see the loss decreasing, but no more\n",
    "\n",
    "num_classes = 10 # This depends on your data. In MNIST, 10 digits from 0 to 9."
   ]
  },
  {
   "cell_type": "markdown",
   "metadata": {},
   "source": [
    "First we declare a sequential model. Then we add some layers. This is the part where you experiment. Add different kinds of layers, with different amounts of filters. Experiment with dropout and normalization layers. Experiment with adding more layers. The [Keras documentation](https://keras.io/) is your friend, but for convenience I have added some useful info about commonly used layers right here:  \n",
    "* [Convolutional layers](https://keras.io/layers/convolutional/) - This is your standard convolution. You specify the number of filters and the kernel size, and if you need to you can change the stride and the padding.\n",
    "* [Max Pooling layers](https://keras.io/layers/pooling/#maxpooling2d) - These layers take a high resolution image and make it slightly lower resolution. A max pooling layer usually follows a convolutional layer.\n",
    "* [Batch Normalization](https://keras.io/layers/normalization/) - A very useful layer. It normalizes the input from the previous layer, to have close to 0 mean and unit standard deviation. This helps a lot in training networks faster, with the slight disadvantage of having more parameters to train.\n",
    "* [Dropout](https://keras.io/layers/core/#dropout) - This layer randomly turns off a percentage of the neurons entering it from the previous layer, at each epoch during training time. The net effect of this is to share weights more evenly across neurons, which results in less overfitting and makes the netowrk more likely to generalize to test data.\n",
    "* [Dense layers](https://keras.io/layers/core/#dense) - Your standard run-of-the-mill fully connected layer. After a bunch of convolutions and max-pooling to extract features, you will add a few dense layers to do the classification.  \n",
    "I have built a sample neural network below to show you how it's done, but feel free to experiment with it."
   ]
  },
  {
   "cell_type": "code",
   "execution_count": 7,
   "metadata": {},
   "outputs": [
    {
     "name": "stdout",
     "output_type": "stream",
     "text": [
      "_________________________________________________________________\n",
      "Layer (type)                 Output Shape              Param #   \n",
      "=================================================================\n",
      "conv2d_1 (Conv2D)            (None, 26, 26, 32)        320       \n",
      "_________________________________________________________________\n",
      "conv2d_2 (Conv2D)            (None, 24, 24, 64)        18496     \n",
      "_________________________________________________________________\n",
      "max_pooling2d_1 (MaxPooling2 (None, 12, 12, 64)        0         \n",
      "_________________________________________________________________\n",
      "dropout_1 (Dropout)          (None, 12, 12, 64)        0         \n",
      "_________________________________________________________________\n",
      "flatten_1 (Flatten)          (None, 9216)              0         \n",
      "_________________________________________________________________\n",
      "dense_1 (Dense)              (None, 128)               1179776   \n",
      "_________________________________________________________________\n",
      "dropout_2 (Dropout)          (None, 128)               0         \n",
      "_________________________________________________________________\n",
      "dense_2 (Dense)              (None, 10)                1290      \n",
      "=================================================================\n",
      "Total params: 1,199,882\n",
      "Trainable params: 1,199,882\n",
      "Non-trainable params: 0\n",
      "_________________________________________________________________\n"
     ]
    }
   ],
   "source": [
    "# First we declare a sequential model\n",
    "model = Sequential()\n",
    "\n",
    "# Add layers\n",
    "# 1 - Convolutional and pooling layers for learning features\n",
    "model.add(Conv2D(32, kernel_size=(3, 3),\n",
    "                 activation='relu',\n",
    "                 input_shape=X_train.shape[1:]))\n",
    "model.add(Conv2D(64, (3, 3), activation='relu'))\n",
    "model.add(MaxPooling2D(pool_size=(2, 2)))\n",
    "model.add(Dropout(0.25))\n",
    "model.add(Flatten())\n",
    "\n",
    "# Note that after each convolution and max pool the output height and width changes.\n",
    "\n",
    "# 2 - Fully connected layers for classifying the features\n",
    "model.add(Dense(128, activation='relu'))\n",
    "model.add(Dropout(0.5))\n",
    "model.add(Dense(num_classes, activation='softmax'))\n",
    "\n",
    "model.summary()"
   ]
  },
  {
   "cell_type": "markdown",
   "metadata": {},
   "source": [
    "## Part 4: Compile the model"
   ]
  },
  {
   "cell_type": "markdown",
   "metadata": {},
   "source": [
    "We configure the model for training with the model.compile command. We have to specify a loss, an optimizer, and the metrics we are measuring. As far as the loss goes, just remember that for a multi-label classification you would use binary cross-entropy whereas for a multi-class classification where each example belongs to a single class, you would use categorical cross entropy. The optimizer could be plain old gradient descent, but there are so many faster and more efficient optimizers out there now which you should definitely play around with."
   ]
  },
  {
   "cell_type": "code",
   "execution_count": 8,
   "metadata": {},
   "outputs": [],
   "source": [
    "model_optimizer = optimizers.Adadelta(lr=1.0)\n",
    "\n",
    "model.compile(loss='categorical_crossentropy',\n",
    "              optimizer=model_optimizer,\n",
    "              metrics=['accuracy'])"
   ]
  },
  {
   "cell_type": "markdown",
   "metadata": {},
   "source": [
    "## Part 5: Train the model"
   ]
  },
  {
   "cell_type": "markdown",
   "metadata": {},
   "source": [
    "This is the part where the weights of the model are adjusted via gradient descent (or a variation of gradient descent specified by the optimizer). With backprop, all the weights in the hidden layers are updated via the chain rule, and at each epoch your model's predictions become a bit better."
   ]
  },
  {
   "cell_type": "code",
   "execution_count": 9,
   "metadata": {},
   "outputs": [
    {
     "name": "stdout",
     "output_type": "stream",
     "text": [
      "Train on 60000 samples, validate on 10000 samples\n",
      "Epoch 1/12\n",
      "60000/60000 [==============================] - 163s 3ms/step - loss: 0.2555 - acc: 0.9216 - val_loss: 0.0556 - val_acc: 0.9818\n",
      "Epoch 2/12\n",
      "60000/60000 [==============================] - 15s 253us/step - loss: 0.0862 - acc: 0.9742 - val_loss: 0.0367 - val_acc: 0.9873\n",
      "Epoch 3/12\n",
      "60000/60000 [==============================] - 15s 253us/step - loss: 0.0632 - acc: 0.9814 - val_loss: 0.0328 - val_acc: 0.9885\n",
      "Epoch 4/12\n",
      "60000/60000 [==============================] - 15s 252us/step - loss: 0.0524 - acc: 0.9839 - val_loss: 0.0303 - val_acc: 0.9892\n",
      "Epoch 5/12\n",
      "60000/60000 [==============================] - 15s 252us/step - loss: 0.0460 - acc: 0.9859 - val_loss: 0.0267 - val_acc: 0.9910\n",
      "Epoch 6/12\n",
      "60000/60000 [==============================] - 15s 257us/step - loss: 0.0391 - acc: 0.9881 - val_loss: 0.0283 - val_acc: 0.9901\n",
      "Epoch 7/12\n",
      "60000/60000 [==============================] - 16s 266us/step - loss: 0.0360 - acc: 0.9891 - val_loss: 0.0282 - val_acc: 0.9904\n",
      "Epoch 8/12\n",
      "60000/60000 [==============================] - 15s 250us/step - loss: 0.0345 - acc: 0.9892 - val_loss: 0.0266 - val_acc: 0.9912\n",
      "Epoch 9/12\n",
      "60000/60000 [==============================] - 15s 247us/step - loss: 0.0299 - acc: 0.9910 - val_loss: 0.0252 - val_acc: 0.9914\n",
      "Epoch 10/12\n",
      "60000/60000 [==============================] - 15s 250us/step - loss: 0.0304 - acc: 0.9904 - val_loss: 0.0266 - val_acc: 0.9913\n",
      "Epoch 11/12\n",
      "60000/60000 [==============================] - 15s 246us/step - loss: 0.0279 - acc: 0.9917 - val_loss: 0.0228 - val_acc: 0.9924\n",
      "Epoch 12/12\n",
      "60000/60000 [==============================] - 15s 247us/step - loss: 0.0256 - acc: 0.9922 - val_loss: 0.0244 - val_acc: 0.9921\n"
     ]
    },
    {
     "data": {
      "text/plain": [
       "<keras.callbacks.History at 0x7f6d489fd630>"
      ]
     },
     "execution_count": 9,
     "metadata": {},
     "output_type": "execute_result"
    }
   ],
   "source": [
    "model.fit(X_train, Y_train,\n",
    "          batch_size=batch_size,\n",
    "          epochs=epochs,\n",
    "          verbose=1,\n",
    "          validation_data=(X_test, Y_test))"
   ]
  },
  {
   "cell_type": "code",
   "execution_count": 10,
   "metadata": {},
   "outputs": [
    {
     "name": "stdout",
     "output_type": "stream",
     "text": [
      "Test loss: 0.024429745590953098\n",
      "Test accuracy: 0.9921\n"
     ]
    }
   ],
   "source": [
    "score = model.evaluate(X_test, Y_test, verbose=0)\n",
    "print('Test loss:', score[0])\n",
    "print('Test accuracy:', score[1])"
   ]
  },
  {
   "cell_type": "markdown",
   "metadata": {},
   "source": [
    "## Intermezzo: Visualizing the outputs of the hidden layers"
   ]
  },
  {
   "cell_type": "markdown",
   "metadata": {},
   "source": [
    "A lot of people like to say that neural networks are a black box. That it is difficult to figure on what exactly a neural network is calculating. This makes them hesitant to use neural networks, and they go for more well-understood machine learning algorithms like support vector machines or decision trees. This is not a true statement, especially in the case of convolutional networks. One can easily see the outputs of each hidden layer for a particular input, because the hidden layer outputs are images themselves. You can refer to the excellent paper [Zeiler & Fergus(2013) - Visualizing and Understanding Convolutional Networks](https://arxiv.org/abs/1311.2901) to see examples of hidden layer outputs. We will write a small function to do just that with our classifier.\n",
    "\n",
    "<img src=\"nb_images/CNN_feature_extract.png\">"
   ]
  },
  {
   "cell_type": "code",
   "execution_count": 47,
   "metadata": {},
   "outputs": [],
   "source": [
    "from keras.models import Model\n",
    "\n",
    "def visualize_a_layer(image, n_layer, model_network):\n",
    "    '''Visualize the filters of layer n of a conv net.\n",
    "    image: the input image to the network\n",
    "    n_layer: the number of the layer to visualize\n",
    "    model_network: the neural network'''\n",
    "    \n",
    "    vis_model = Model([model_network.layers[0].input], [model_network.layers[n_layer].output])\n",
    "    vis_model.compile(loss='categorical_crossentropy',\n",
    "              optimizer=model_optimizer,\n",
    "              metrics=['accuracy'])\n",
    "    activations = vis_model.predict(image)[0]\n",
    "    \n",
    "    # The index 2 corresponds to the filter number so we traverse all filters\n",
    "    box = int(np.sqrt(activations.shape[2]))\n",
    "    for filt in range(activations.shape[2]):\n",
    "        plt.subplot(box,box,filt+1)\n",
    "        plt.imshow(activations[:,:,filt], cmap='gray', interpolation='none')"
   ]
  },
  {
   "cell_type": "code",
   "execution_count": 48,
   "metadata": {},
   "outputs": [
    {
     "data": {
      "image/png": "[encoded data removed]",
      "text/plain": [
       "<Figure size 432x288 with 64 Axes>"
      ]
     },
     "metadata": {},
     "output_type": "display_data"
    }
   ],
   "source": [
    "img_to_visualize = np.expand_dims(X_train[65], axis=0)\n",
    "visualize_a_layer(img_to_visualize, 2, model)"
   ]
  },
  {
   "cell_type": "markdown",
   "metadata": {},
   "source": [
    "## Part 6: Transfer learning with Keras"
   ]
  },
  {
   "cell_type": "markdown",
   "metadata": {},
   "source": [
    "A very nifty feature of convolutional neural netowrks is that the earlier layers learn very basic shapes, edges, and low-level features that are common to all objects. So a powerful neural network that has been trained on many images could be re-used for a totally different problem with a completely different dataset. We just fine-tune the last few layers of the network and we have a state-of-the-art classifier, while barely doing any work ourselves. The rest of this notebook will show you how to use the trained deep neural networks that are built into Keras - neural networks that have achieved record breaking accuracies at image classification problems."
   ]
  },
  {
   "cell_type": "markdown",
   "metadata": {},
   "source": [
    "### Getting the dataset\n",
    "We will use a set of [25,000 images of dogs and cats from Kaggle](https://www.kaggle.com/c/dogs-vs-cats/data). Our goal is to train a classifier to differentiate between dogs and cats."
   ]
  },
  {
   "cell_type": "code",
   "execution_count": 54,
   "metadata": {},
   "outputs": [
    {
     "name": "stdout",
     "output_type": "stream",
     "text": [
      "Requirement already up-to-date: kaggle in /home/vikram/miniconda3/envs/workshops/lib/python3.6/site-packages (1.5.0)\r\n",
      "Requirement already satisfied, skipping upgrade: python-slugify in /home/vikram/miniconda3/envs/workshops/lib/python3.6/site-packages (from kaggle) (1.2.6)\r\n",
      "Requirement already satisfied, skipping upgrade: urllib3<1.23.0,>=1.15 in /home/vikram/miniconda3/envs/workshops/lib/python3.6/site-packages (from kaggle) (1.22)\r\n",
      "Requirement already satisfied, skipping upgrade: requests in /home/vikram/miniconda3/envs/workshops/lib/python3.6/site-packages (from kaggle) (2.20.0)\r\n",
      "Requirement already satisfied, skipping upgrade: python-dateutil in /home/vikram/miniconda3/envs/workshops/lib/python3.6/site-packages (from kaggle) (2.7.3)\r\n",
      "Requirement already satisfied, skipping upgrade: certifi in /home/vikram/miniconda3/envs/workshops/lib/python3.6/site-packages (from kaggle) (2018.10.15)\r\n",
      "Requirement already satisfied, skipping upgrade: six>=1.10 in /home/vikram/miniconda3/envs/workshops/lib/python3.6/site-packages (from kaggle) (1.11.0)\r\n",
      "Requirement already satisfied, skipping upgrade: tqdm in /home/vikram/miniconda3/envs/workshops/lib/python3.6/site-packages (from kaggle) (4.28.1)\r\n",
      "Requirement already satisfied, skipping upgrade: Unidecode>=0.04.16 in /home/vikram/miniconda3/envs/workshops/lib/python3.6/site-packages (from python-slugify->kaggle) (1.0.22)\r\n",
      "Requirement already satisfied, skipping upgrade: chardet<3.1.0,>=3.0.2 in /home/vikram/miniconda3/envs/workshops/lib/python3.6/site-packages (from requests->kaggle) (3.0.4)\r\n",
      "Requirement already satisfied, skipping upgrade: idna<2.8,>=2.5 in /home/vikram/miniconda3/envs/workshops/lib/python3.6/site-packages (from requests->kaggle) (2.7)\r\n"
     ]
    }
   ],
   "source": [
    "# Install the Kaggle API\n",
    "!pip install kaggle --upgrade\n",
    "\n",
    "# Download the data\n",
    "import os\n",
    "if not os.path.exists(\"train.zip\"):\n",
    "    !kaggle competitions download -c dogs-vs-cats"
   ]
  },
  {
   "cell_type": "code",
   "execution_count": 57,
   "metadata": {},
   "outputs": [],
   "source": [
    "# Unzip the files\n",
    "import zipfile\n",
    "zip_train = zipfile.ZipFile(\"train.zip\", 'r')\n",
    "zip_train.extractall()\n",
    "zip_train.close()\n",
    "\n",
    "zip_test = zipfile.ZipFile(\"test1.zip\", 'r')\n",
    "zip_test.extractall()\n",
    "zip_test.close()"
   ]
  },
  {
   "cell_type": "markdown",
   "metadata": {},
   "source": [
    "### Image data augmentation\n",
    "If you inspect the data you will see that every image has a different width and height. We need a way to make them all the same shape to feed into the convnet. Also, we have plenty of images here, but it's always nicer to have more variety in our data. One way of doing this would be to randomly translate or rotate the images or mirror them. We can address both of these themes with data augmentation. Keras provides an image data augmentation class which we can use to get a larger dataset of same sized images from the training data.  \n",
    "To make things easier, let's first split the data into a training folder and a validation folder. Then, let's move all the dogs into a folder named dogs and cats into a folder named cats. An image is a dog if it has the word \"dog\" in its name and cat if it contains \"cat\" in its name."
   ]
  },
  {
   "cell_type": "code",
   "execution_count": 67,
   "metadata": {},
   "outputs": [],
   "source": [
    "import glob\n",
    "import shutil\n",
    "from random import sample\n",
    "\n",
    "# Create a directory for validation data\n",
    "if not os.path.exists(\"validate\"):\n",
    "    os.mkdir(\"validate\")\n",
    "\n",
    "# Move 20% of training data to validation\n",
    "files = os.listdir(\"train/\")\n",
    "vfiles = sample(files, int(0.2 * len(files)))\n",
    "for f in vfiles:\n",
    "    shutil.move(\"train/\" + f, \"validate/\" + f)\n",
    "\n",
    "# Create separate folders for dogs and cats\n",
    "if not os.path.exists(\"train/dogs\"):\n",
    "    os.mkdir(\"train/dogs\")\n",
    "if not os.path.exists(\"train/cats\"):\n",
    "    os.mkdir(\"train/cats\")\n",
    "\n",
    "for image in glob.glob(\"train/cat.*\"):\n",
    "    shutil.move(image, \"train/cats/.\")\n",
    "for image in glob.glob(\"train/dog.*\"):\n",
    "    shutil.move(image, \"train/dogs/.\")\n",
    "\n",
    "if not os.path.exists(\"validate/dogs\"):\n",
    "    os.mkdir(\"validate/dogs\")\n",
    "if not os.path.exists(\"validate/cats\"):\n",
    "    os.mkdir(\"validate/cats\")\n",
    "\n",
    "for image in glob.glob(\"validate/cat.*\"):\n",
    "    shutil.move(image, \"validate/cats/.\")\n",
    "for image in glob.glob(\"validate/dog.*\"):\n",
    "    shutil.move(image, \"validate/dogs/.\")"
   ]
  },
  {
   "cell_type": "markdown",
   "metadata": {},
   "source": [
    "Now we set up the Image Data Generator."
   ]
  },
  {
   "cell_type": "code",
   "execution_count": 78,
   "metadata": {},
   "outputs": [
    {
     "name": "stdout",
     "output_type": "stream",
     "text": [
      "Found 20000 images belonging to 2 classes.\n",
      "Found 5000 images belonging to 2 classes.\n"
     ]
    }
   ],
   "source": [
    "from keras.preprocessing import image\n",
    "from keras.applications.imagenet_utils import preprocess_input\n",
    "\n",
    "# The augmentation configuration we will use for training\n",
    "train_datagen = image.ImageDataGenerator(\n",
    "        rescale=1./255,\n",
    "        shear_range=0.2,\n",
    "        zoom_range=0.2,\n",
    "        horizontal_flip=True)\n",
    "\n",
    "# The augmentation configuration we will use for testing:\n",
    "test_datagen = image.ImageDataGenerator(rescale=1./255)\n",
    "\n",
    "# This generator will generate augmented data from the training folder\n",
    "train_generator = train_datagen.flow_from_directory(\n",
    "        'train',  # this is the target directory\n",
    "        target_size=(150, 150),  # all images will be resized to 150x150\n",
    "        batch_size=16,\n",
    "        class_mode='binary')  # since we use binary_crossentropy loss, we need binary labels\n",
    "\n",
    "# This is a similar generator, for validation data\n",
    "validation_generator = test_datagen.flow_from_directory(\n",
    "        'validate',\n",
    "        target_size=(150, 150),\n",
    "        batch_size=16,\n",
    "        class_mode='binary')"
   ]
  },
  {
   "cell_type": "markdown",
   "metadata": {},
   "source": [
    "Now we import the pre-trained VGG16 model from Keras."
   ]
  },
  {
   "cell_type": "code",
   "execution_count": 94,
   "metadata": {},
   "outputs": [
    {
     "name": "stdout",
     "output_type": "stream",
     "text": [
      "_________________________________________________________________\n",
      "Layer (type)                 Output Shape              Param #   \n",
      "=================================================================\n",
      "input_6 (InputLayer)         (None, 150, 150, 3)       0         \n",
      "_________________________________________________________________\n",
      "block1_conv1 (Conv2D)        (None, 150, 150, 64)      1792      \n",
      "_________________________________________________________________\n",
      "block1_conv2 (Conv2D)        (None, 150, 150, 64)      36928     \n",
      "_________________________________________________________________\n",
      "block1_pool (MaxPooling2D)   (None, 75, 75, 64)        0         \n",
      "_________________________________________________________________\n",
      "block2_conv1 (Conv2D)        (None, 75, 75, 128)       73856     \n",
      "_________________________________________________________________\n",
      "block2_conv2 (Conv2D)        (None, 75, 75, 128)       147584    \n",
      "_________________________________________________________________\n",
      "block2_pool (MaxPooling2D)   (None, 37, 37, 128)       0         \n",
      "_________________________________________________________________\n",
      "block3_conv1 (Conv2D)        (None, 37, 37, 256)       295168    \n",
      "_________________________________________________________________\n",
      "block3_conv2 (Conv2D)        (None, 37, 37, 256)       590080    \n",
      "_________________________________________________________________\n",
      "block3_conv3 (Conv2D)        (None, 37, 37, 256)       590080    \n",
      "_________________________________________________________________\n",
      "block3_pool (MaxPooling2D)   (None, 18, 18, 256)       0         \n",
      "_________________________________________________________________\n",
      "block4_conv1 (Conv2D)        (None, 18, 18, 512)       1180160   \n",
      "_________________________________________________________________\n",
      "block4_conv2 (Conv2D)        (None, 18, 18, 512)       2359808   \n",
      "_________________________________________________________________\n",
      "block4_conv3 (Conv2D)        (None, 18, 18, 512)       2359808   \n",
      "_________________________________________________________________\n",
      "block4_pool (MaxPooling2D)   (None, 9, 9, 512)         0         \n",
      "_________________________________________________________________\n",
      "block5_conv1 (Conv2D)        (None, 9, 9, 512)         2359808   \n",
      "_________________________________________________________________\n",
      "block5_conv2 (Conv2D)        (None, 9, 9, 512)         2359808   \n",
      "_________________________________________________________________\n",
      "block5_conv3 (Conv2D)        (None, 9, 9, 512)         2359808   \n",
      "_________________________________________________________________\n",
      "block5_pool (MaxPooling2D)   (None, 4, 4, 512)         0         \n",
      "=================================================================\n",
      "Total params: 14,714,688\n",
      "Trainable params: 14,714,688\n",
      "Non-trainable params: 0\n",
      "_________________________________________________________________\n"
     ]
    }
   ],
   "source": [
    "from keras import applications\n",
    "\n",
    "VGGmodel = applications.VGG16(weights='imagenet', include_top=False, input_shape = (150,150,3))\n",
    "\n",
    "VGGmodel.summary()"
   ]
  },
  {
   "cell_type": "markdown",
   "metadata": {},
   "source": [
    "We add on a few extra layers at the end to fine-tune it for our dataset."
   ]
  },
  {
   "cell_type": "code",
   "execution_count": 95,
   "metadata": {},
   "outputs": [],
   "source": [
    "# Build a classifier model to put on top of the convolutional model\n",
    "# Here we need to use the functional method of building a neural network in Keras\n",
    "\n",
    "top_model = Flatten()(VGGmodel.output)\n",
    "top_model = Dense(256, activation='relu')(top_model)\n",
    "top_model = Dropout(0.5)(top_model)\n",
    "top_model = Dense(1, activation='sigmoid')(top_model)\n",
    "\n",
    "full_model = Model([VGGmodel.input], [top_model])\n",
    "# Set the first 16 layers to non-trainable (weights will not be updated)\n",
    "for layer in full_model.layers[:16]:\n",
    "    layer.trainable = False"
   ]
  },
  {
   "cell_type": "code",
   "execution_count": 96,
   "metadata": {},
   "outputs": [],
   "source": [
    "full_model.compile(loss='binary_crossentropy',\n",
    "              optimizer=model_optimizer,\n",
    "              metrics=['accuracy'])"
   ]
  },
  {
   "cell_type": "code",
   "execution_count": 97,
   "metadata": {},
   "outputs": [
    {
     "name": "stdout",
     "output_type": "stream",
     "text": [
      "Epoch 1/50\n",
      "15/15 [==============================] - 5s 349ms/step - loss: 1.1779 - acc: 0.5708 - val_loss: 0.6782 - val_acc: 0.6667\n",
      "Epoch 2/50\n",
      "15/15 [==============================] - 4s 291ms/step - loss: 0.7000 - acc: 0.5542 - val_loss: 0.6140 - val_acc: 0.6667\n",
      "Epoch 3/50\n",
      "15/15 [==============================] - 4s 289ms/step - loss: 0.6294 - acc: 0.6833 - val_loss: 5.3801 - val_acc: 0.4479\n",
      "Epoch 4/50\n",
      "15/15 [==============================] - 4s 291ms/step - loss: 0.8251 - acc: 0.6167 - val_loss: 0.5147 - val_acc: 0.7917\n",
      "Epoch 5/50\n",
      "15/15 [==============================] - 4s 289ms/step - loss: 0.5521 - acc: 0.7167 - val_loss: 0.5605 - val_acc: 0.6562\n",
      "Epoch 6/50\n",
      "15/15 [==============================] - 4s 290ms/step - loss: 0.5434 - acc: 0.7333 - val_loss: 0.3161 - val_acc: 0.8854\n",
      "Epoch 7/50\n",
      "15/15 [==============================] - 4s 290ms/step - loss: 0.6070 - acc: 0.7500 - val_loss: 0.4227 - val_acc: 0.8021\n",
      "Epoch 8/50\n",
      "15/15 [==============================] - 4s 294ms/step - loss: 0.4999 - acc: 0.7583 - val_loss: 0.3320 - val_acc: 0.8542\n",
      "Epoch 9/50\n",
      "15/15 [==============================] - 4s 291ms/step - loss: 0.5087 - acc: 0.7750 - val_loss: 0.3183 - val_acc: 0.8750\n",
      "Epoch 10/50\n",
      "15/15 [==============================] - 4s 292ms/step - loss: 0.4576 - acc: 0.7792 - val_loss: 0.2771 - val_acc: 0.8750\n",
      "Epoch 11/50\n",
      "15/15 [==============================] - 4s 288ms/step - loss: 0.3549 - acc: 0.8333 - val_loss: 0.2340 - val_acc: 0.8750\n",
      "Epoch 12/50\n",
      "15/15 [==============================] - 4s 294ms/step - loss: 0.3299 - acc: 0.8458 - val_loss: 0.2424 - val_acc: 0.8542\n",
      "Epoch 13/50\n",
      "15/15 [==============================] - 4s 289ms/step - loss: 0.3302 - acc: 0.8625 - val_loss: 0.1836 - val_acc: 0.9167\n",
      "Epoch 14/50\n",
      "15/15 [==============================] - 4s 290ms/step - loss: 0.3582 - acc: 0.8750 - val_loss: 0.1613 - val_acc: 0.9167\n",
      "Epoch 15/50\n",
      "15/15 [==============================] - 4s 290ms/step - loss: 0.4748 - acc: 0.8542 - val_loss: 0.2020 - val_acc: 0.9167\n",
      "Epoch 16/50\n",
      "15/15 [==============================] - 4s 291ms/step - loss: 0.3985 - acc: 0.8500 - val_loss: 0.2836 - val_acc: 0.8542\n",
      "Epoch 17/50\n",
      "15/15 [==============================] - 4s 289ms/step - loss: 0.3247 - acc: 0.8542 - val_loss: 0.1697 - val_acc: 0.9271\n",
      "Epoch 18/50\n",
      "15/15 [==============================] - 4s 290ms/step - loss: 0.3380 - acc: 0.8542 - val_loss: 0.2052 - val_acc: 0.9167\n",
      "Epoch 19/50\n",
      "15/15 [==============================] - 4s 291ms/step - loss: 0.2946 - acc: 0.8750 - val_loss: 0.1696 - val_acc: 0.9583\n",
      "Epoch 20/50\n",
      "15/15 [==============================] - 4s 289ms/step - loss: 0.3498 - acc: 0.8500 - val_loss: 0.2246 - val_acc: 0.8958\n",
      "Epoch 21/50\n",
      "15/15 [==============================] - 4s 293ms/step - loss: 0.3077 - acc: 0.8667 - val_loss: 0.1667 - val_acc: 0.9375\n",
      "Epoch 22/50\n",
      "15/15 [==============================] - 4s 291ms/step - loss: 0.3583 - acc: 0.8542 - val_loss: 0.1783 - val_acc: 0.9479\n",
      "Epoch 23/50\n",
      "15/15 [==============================] - 4s 291ms/step - loss: 0.2825 - acc: 0.8542 - val_loss: 0.2103 - val_acc: 0.9167\n",
      "Epoch 24/50\n",
      "15/15 [==============================] - 4s 289ms/step - loss: 0.2881 - acc: 0.9000 - val_loss: 0.2023 - val_acc: 0.8958\n",
      "Epoch 25/50\n",
      "15/15 [==============================] - 4s 288ms/step - loss: 0.3410 - acc: 0.8542 - val_loss: 0.2976 - val_acc: 0.8542\n",
      "Epoch 26/50\n",
      "15/15 [==============================] - 4s 290ms/step - loss: 0.2615 - acc: 0.8958 - val_loss: 0.1679 - val_acc: 0.9271\n",
      "Epoch 27/50\n",
      "15/15 [==============================] - 4s 291ms/step - loss: 0.1937 - acc: 0.9125 - val_loss: 0.2445 - val_acc: 0.8958\n",
      "Epoch 28/50\n",
      "15/15 [==============================] - 4s 289ms/step - loss: 0.3289 - acc: 0.8833 - val_loss: 0.1568 - val_acc: 0.9167\n",
      "Epoch 29/50\n",
      "15/15 [==============================] - 4s 290ms/step - loss: 0.2527 - acc: 0.9083 - val_loss: 0.1909 - val_acc: 0.9167\n",
      "Epoch 30/50\n",
      "15/15 [==============================] - 4s 290ms/step - loss: 0.2571 - acc: 0.8875 - val_loss: 0.1674 - val_acc: 0.9271\n",
      "Epoch 31/50\n",
      "15/15 [==============================] - 4s 290ms/step - loss: 0.2707 - acc: 0.8833 - val_loss: 0.1598 - val_acc: 0.9583\n",
      "Epoch 32/50\n",
      "15/15 [==============================] - 4s 294ms/step - loss: 0.2742 - acc: 0.8792 - val_loss: 0.1991 - val_acc: 0.9375\n",
      "Epoch 33/50\n",
      "15/15 [==============================] - 4s 290ms/step - loss: 0.2980 - acc: 0.8917 - val_loss: 0.1365 - val_acc: 0.9375\n",
      "Epoch 34/50\n",
      "15/15 [==============================] - 4s 289ms/step - loss: 0.2527 - acc: 0.8958 - val_loss: 0.1199 - val_acc: 0.9479\n",
      "Epoch 35/50\n",
      "15/15 [==============================] - 4s 290ms/step - loss: 0.2633 - acc: 0.8917 - val_loss: 0.1220 - val_acc: 0.9688\n",
      "Epoch 36/50\n",
      "15/15 [==============================] - 4s 290ms/step - loss: 0.3069 - acc: 0.8667 - val_loss: 0.1314 - val_acc: 0.9583\n",
      "Epoch 37/50\n",
      "15/15 [==============================] - 4s 290ms/step - loss: 0.2726 - acc: 0.9000 - val_loss: 0.1217 - val_acc: 0.9583\n",
      "Epoch 38/50\n",
      "15/15 [==============================] - 4s 289ms/step - loss: 0.1845 - acc: 0.9375 - val_loss: 0.1132 - val_acc: 0.9479\n",
      "Epoch 39/50\n",
      "15/15 [==============================] - 4s 291ms/step - loss: 0.3792 - acc: 0.8875 - val_loss: 0.1329 - val_acc: 0.9375\n",
      "Epoch 40/50\n",
      "15/15 [==============================] - 4s 290ms/step - loss: 0.2336 - acc: 0.8792 - val_loss: 0.1134 - val_acc: 0.9479\n",
      "Epoch 41/50\n",
      "15/15 [==============================] - 4s 289ms/step - loss: 0.2750 - acc: 0.9125 - val_loss: 0.1595 - val_acc: 0.9375\n",
      "Epoch 42/50\n",
      "15/15 [==============================] - 4s 290ms/step - loss: 0.3349 - acc: 0.8375 - val_loss: 0.1313 - val_acc: 0.9583\n",
      "Epoch 43/50\n",
      "15/15 [==============================] - 4s 291ms/step - loss: 0.2497 - acc: 0.8792 - val_loss: 0.1105 - val_acc: 0.9688\n",
      "Epoch 44/50\n",
      "15/15 [==============================] - 4s 289ms/step - loss: 0.2674 - acc: 0.8750 - val_loss: 0.1108 - val_acc: 0.9583\n",
      "Epoch 45/50\n",
      "15/15 [==============================] - 4s 289ms/step - loss: 0.2329 - acc: 0.9333 - val_loss: 0.0999 - val_acc: 0.9688\n",
      "Epoch 46/50\n",
      "15/15 [==============================] - 4s 289ms/step - loss: 0.3136 - acc: 0.8625 - val_loss: 0.1234 - val_acc: 0.9583\n",
      "Epoch 47/50\n",
      "15/15 [==============================] - 4s 290ms/step - loss: 0.2175 - acc: 0.9042 - val_loss: 0.0979 - val_acc: 0.9583\n",
      "Epoch 48/50\n",
      "15/15 [==============================] - 4s 289ms/step - loss: 0.2903 - acc: 0.8750 - val_loss: 0.1166 - val_acc: 0.9479\n",
      "Epoch 49/50\n",
      "15/15 [==============================] - 4s 290ms/step - loss: 0.2210 - acc: 0.9000 - val_loss: 0.1214 - val_acc: 0.9479\n",
      "Epoch 50/50\n",
      "15/15 [==============================] - 4s 292ms/step - loss: 0.2746 - acc: 0.8917 - val_loss: 0.1343 - val_acc: 0.9479\n"
     ]
    },
    {
     "data": {
      "text/plain": [
       "<keras.callbacks.History at 0x7f6c9d4e8e10>"
      ]
     },
     "execution_count": 97,
     "metadata": {},
     "output_type": "execute_result"
    }
   ],
   "source": [
    "full_model.fit_generator(\n",
    "        train_generator,\n",
    "        steps_per_epoch=2000 // batch_size,\n",
    "        epochs=50,\n",
    "        validation_data=validation_generator,\n",
    "        validation_steps=800 // batch_size)"
   ]
  },
  {
   "cell_type": "code",
   "execution_count": null,
   "metadata": {},
   "outputs": [],
   "source": []
  }
 ],
 "metadata": {
  "kernelspec": {
   "display_name": "Python [conda env:hcipy]",
   "language": "python",
   "name": "conda-env-hcipy-py"
  },
  "language_info": {
   "codemirror_mode": {
    "name": "ipython",
    "version": 3
   },
   "file_extension": ".py",
   "mimetype": "text/x-python",
   "name": "python",
   "nbconvert_exporter": "python",
   "pygments_lexer": "ipython3",
   "version": "3.6.5"
  }
 },
 "nbformat": 4,
 "nbformat_minor": 2
}
